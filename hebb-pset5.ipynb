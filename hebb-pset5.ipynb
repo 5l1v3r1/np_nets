{
 "cells": [
  {
   "cell_type": "markdown",
   "metadata": {},
   "source": [
    "# Problem Set 5:  Exploring Hebbian Dynamics\n",
    "Sam Greydanus  $\\cdot$  Dartmouth College  $\\cdot$  Jeremy Manning's PSYC 051.09  $\\cdot$  16 February 2017  $\\cdot$  MIT License"
   ]
  },
  {
   "cell_type": "code",
   "execution_count": 92,
   "metadata": {
    "collapsed": true
   },
   "outputs": [],
   "source": [
    "import numpy as np\n",
    "import matplotlib.pyplot as plt\n",
    "import matplotlib.patches as patches\n",
    "%matplotlib inline"
   ]
  },
  {
   "cell_type": "markdown",
   "metadata": {},
   "source": [
    "### Initialize parameters\n",
    "Initialize memory vectors **m** probe vectors **x**"
   ]
  },
  {
   "cell_type": "code",
   "execution_count": 93,
   "metadata": {
    "collapsed": false
   },
   "outputs": [],
   "source": [
    "dim = 6\n",
    "noise_sigma = .5\n",
    "max_updates = 10\n",
    "epsilon = 1e-8\n",
    "m = [[ 1,-1,-1, 1,-1,-1],\n",
    "     [-1,-1, 1,-1,-1, 1],]\n",
    "x = [[-1,-1, 0, 0, 0, 0],\n",
    "     [ 1,-1, 0, 0, 0, 0],]\n",
    "\n",
    "m = [np.asarray(m_i, dtype=np.float32) for m_i in m]\n",
    "x = [np.asarray(x_i, dtype=np.float32) for x_i in x]"
   ]
  },
  {
   "cell_type": "markdown",
   "metadata": {},
   "source": [
    "## Problem 1: Build weight matrix\n",
    "### Learning rule\n",
    "Update the weight matrix using the \"fire together wire together\" learning rule (outer product)\n",
    "$$W(i,j)=\\sum_{k=1}^L a_k(i) a_k(j)$$"
   ]
  },
  {
   "cell_type": "code",
   "execution_count": 96,
   "metadata": {
    "collapsed": false
   },
   "outputs": [],
   "source": [
    "E = 1 - np.eye(dim)\n",
    "hebbs = [np.expand_dims(m_i,1)*np.expand_dims(m_i,0)*E for m_i in m]\n",
    "W = np.sum(hebbs,axis=0)"
   ]
  },
  {
   "cell_type": "code",
   "execution_count": 97,
   "metadata": {
    "collapsed": false
   },
   "outputs": [
    {
     "name": "stdout",
     "output_type": "stream",
     "text": [
      "[[ 0.  0. -2.  2.  0. -2.]\n",
      " [ 0.  0.  0.  0.  2.  0.]\n",
      " [-2.  0.  0. -2.  0.  2.]\n",
      " [ 2.  0. -2.  0.  0. -2.]\n",
      " [ 0.  2.  0.  0.  0.  0.]\n",
      " [-2.  0.  2. -2.  0.  0.]]\n"
     ]
    },
    {
     "data": {
      "image/png": "[encoded data removed]",
      "text/plain": [
       "<matplotlib.figure.Figure at 0x10526e250>"
      ]
     },
     "metadata": {},
     "output_type": "display_data"
    }
   ],
   "source": [
    "plt.figure(figsize=[2,2])\n",
    "plt.imshow(W,interpolation='none')\n",
    "print W ; plt.show()"
   ]
  },
  {
   "cell_type": "markdown",
   "metadata": {},
   "source": [
    "## Problem 2: Probe the network\n",
    "### Dynamic rule\n",
    "$$a(i) = \\mathbf{sgn} \\left( \\sum_{j=1}^N W(j,i) a(j) \\right)$$"
   ]
  },
  {
   "cell_type": "code",
   "execution_count": 98,
   "metadata": {
    "collapsed": true
   },
   "outputs": [],
   "source": [
    "def add_noise(a, sigma):\n",
    "    return a + np.random.randn(len(a))*sigma\n",
    "\n",
    "def dynamic_rule(W, p, ix_async=None, sigma=0):\n",
    "    p = add_noise(p, sigma)\n",
    "    if ix_async is None:\n",
    "        a = np.sign(np.dot(W, p) + epsilon)\n",
    "    else:\n",
    "        a = p.copy() ; a[ix_async] = np.sign(np.dot(W[ix_async,:], p) + epsilon)\n",
    "    a_equals_p = np.allclose(p,a)\n",
    "    return a, a_equals_p"
   ]
  },
  {
   "cell_type": "markdown",
   "metadata": {},
   "source": [
    "Now, we'll probe the network (asynchronously) with the **x** vectors"
   ]
  },
  {
   "cell_type": "code",
   "execution_count": 99,
   "metadata": {
    "collapsed": false
   },
   "outputs": [],
   "source": [
    "def probe_network(W, p):\n",
    "    aep_all = False # \"the probe and activation vector match for all elements\"\n",
    "    aep_sum = True # \"a[i] and p[i] have matched for all elements so far in a given cycle\"\n",
    "    i = 0\n",
    "    while not aep_all and i < max_updates:\n",
    "        print \"\\tstep {}, activation: {}\".format(i, p)\n",
    "        index_asynchronous = 2 + i%4 # cyclically update indices 2,3,4,5\n",
    "        p, aep = dynamic_rule(W, p, ix_async=index_asynchronous)\n",
    "        i += 1\n",
    "        aep_sum = aep_sum and aep\n",
    "        if i%4 == 0:\n",
    "            aep_all = aep_sum ; aep_sum = True\n",
    "    a = p ; print \"{} updates produced {}\\n\".format(i, a)\n",
    "    return a"
   ]
  },
  {
   "cell_type": "code",
   "execution_count": 100,
   "metadata": {
    "collapsed": false
   },
   "outputs": [
    {
     "name": "stdout",
     "output_type": "stream",
     "text": [
      "\tstep 0, activation: [-1. -1.  0.  0.  0.  0.]\n",
      "\tstep 1, activation: [-1. -1.  1.  0.  0.  0.]\n",
      "\tstep 2, activation: [-1. -1.  1. -1.  0.  0.]\n",
      "\tstep 3, activation: [-1. -1.  1. -1. -1.  0.]\n",
      "\tstep 4, activation: [-1. -1.  1. -1. -1.  1.]\n",
      "\tstep 5, activation: [-1. -1.  1. -1. -1.  1.]\n",
      "\tstep 6, activation: [-1. -1.  1. -1. -1.  1.]\n",
      "\tstep 7, activation: [-1. -1.  1. -1. -1.  1.]\n",
      "8 updates produced [-1. -1.  1. -1. -1.  1.]\n",
      "\n",
      "\tstep 0, activation: [ 1. -1.  0.  0.  0.  0.]\n",
      "\tstep 1, activation: [ 1. -1. -1.  0.  0.  0.]\n",
      "\tstep 2, activation: [ 1. -1. -1.  1.  0.  0.]\n",
      "\tstep 3, activation: [ 1. -1. -1.  1. -1.  0.]\n",
      "\tstep 4, activation: [ 1. -1. -1.  1. -1. -1.]\n",
      "\tstep 5, activation: [ 1. -1. -1.  1. -1. -1.]\n",
      "\tstep 6, activation: [ 1. -1. -1.  1. -1. -1.]\n",
      "\tstep 7, activation: [ 1. -1. -1.  1. -1. -1.]\n",
      "8 updates produced [ 1. -1. -1.  1. -1. -1.]\n",
      "\n",
      "Did we make errors? Look at difference between original memories and probe activations.\n",
      "[[ 0.  0.  0.  0.  0.  0.]\n",
      " [ 0.  0.  0.  0.  0.  0.]]\n",
      "\t\t\t\t...we made 0 errors!\n"
     ]
    }
   ],
   "source": [
    "a = [probe_network(W, x[i]) for i in range(len(x))]\n",
    "a = a[::-1] # first two indices of second probe appear to match first two indices of first memory / vice versa\n",
    "diff = np.vstack(m) - np.vstack(a)\n",
    "\n",
    "print \"Did we make errors? Look at difference between original memories and probe activations.\\n\", diff\n",
    "print \"\\t\\t\\t\\t...we made {} errors!\".format(int(np.sum(np.sign(diff))))"
   ]
  },
  {
   "cell_type": "markdown",
   "metadata": {
    "collapsed": true
   },
   "source": [
    "## Extra fun: Energy landscapes\n",
    "\n",
    "Professor Manning mentioned in class that the weight matrix $\\mathbf{W}$ can be thought of in terms of an energy landscape; probes naturally gravitate to \"low-energy\" states, producing activations which resemble the original memories.\n",
    "\n",
    "Can we visualize this? Of course...but it's tough because $\\mathbf{m}, \\mathbf{x}, \\mathbf{a} \\in R^{n}$ where $n >>2$. This means we'll need to reduce dimensionality. The best way to do this would be PCA, tSNE, or a related method. However, since I'm lazy I'll use a matrix of random values to reduce dimensionality. There are theoretical guarantees that this works \"most of the time.\"\n",
    "\n",
    "We also need to get rid of the **sgn** function because we need a smooth similarity measure between probes and activations. This certainly changes the dynamics of the system...but for this hand-wavy demo it's probably ok.\n",
    "\n",
    "### Build a new 7-dimensional weight matrix"
   ]
  },
  {
   "cell_type": "code",
   "execution_count": 108,
   "metadata": {
    "collapsed": false
   },
   "outputs": [
    {
     "data": {
      "text/plain": [
       "<matplotlib.image.AxesImage at 0x1063e1c50>"
      ]
     },
     "execution_count": 108,
     "metadata": {},
     "output_type": "execute_result"
    },
    {
     "data": {
      "image/png": "[encoded data removed]",
      "text/plain": [
       "<matplotlib.figure.Figure at 0x10506a6d0>"
      ]
     },
     "metadata": {},
     "output_type": "display_data"
    }
   ],
   "source": [
    "dim = 7\n",
    "num_probes = 2\n",
    "memories = [np.random.randn(dim) for _ in range(num_probes)]\n",
    "E = 1 - np.eye(dim)\n",
    "hebbs = [np.expand_dims(m_i,1)*np.expand_dims(m_i,0)*E for m_i in memories]\n",
    "W = np.sum(hebbs,axis=0)\n",
    "plt.figure(figsize=[1,1])\n",
    "plt.imshow(W, interpolation='none')"
   ]
  },
  {
   "cell_type": "markdown",
   "metadata": {},
   "source": [
    "### Helper functions\n",
    "Note that our dynamic rule is synchronous and lacks the **sgn** function"
   ]
  },
  {
   "cell_type": "code",
   "execution_count": 109,
   "metadata": {
    "collapsed": true
   },
   "outputs": [],
   "source": [
    "def add_noise(a, sigma):\n",
    "    return a + np.random.randn(len(a))*sigma\n",
    "\n",
    "def norm(u):\n",
    "    return np.sqrt(np.sum(np.square(u)))\n",
    "\n",
    "def similarity(u,v):\n",
    "    return np.dot(u,v) / (norm(u)*norm(v))\n",
    "\n",
    "def dynamic_rule(W, p, sigma=0):\n",
    "    p = add_noise(p, sigma)\n",
    "    a = np.dot(W, p)\n",
    "    a_equals_p = np.allclose(p,a)\n",
    "    return a, a_equals_p\n",
    "\n",
    "def interp1D(value, min, max, resolution):\n",
    "    return int((value-min-epsilon)*resolution/(max-min))\n",
    "\n",
    "def get_transformation_matrix(dim):\n",
    "    R = np.random.randn(dim, 2) # cave man dimensionality reduction :)\n",
    "    return R"
   ]
  },
  {
   "cell_type": "markdown",
   "metadata": {},
   "source": [
    "### Repeatedly probe W with random vectors\n",
    "Here we're measuring the similarity between the probe and the activation after one dynamic rule update. The idea is that the similarity should be larger for vectors near the original memories (these vectors will be more strongly attracted)"
   ]
  },
  {
   "cell_type": "code",
   "execution_count": 110,
   "metadata": {
    "collapsed": false
   },
   "outputs": [],
   "source": [
    "probes = []\n",
    "similarities = []\n",
    "num_probes = 100000\n",
    "for _ in range(num_probes):\n",
    "    probe = np.random.randn(dim)\n",
    "    a_probe, _ = dynamic_rule(W, probe)\n",
    "    in_out_similarity = similarity(probe, a_probe)\n",
    "    probes.append(probe)\n",
    "    similarities.append(in_out_similarity)"
   ]
  },
  {
   "cell_type": "code",
   "execution_count": 111,
   "metadata": {
    "collapsed": true
   },
   "outputs": [],
   "source": [
    "def transform_to_2d(probes, memories):\n",
    "    R = get_transformation_matrix(dim)\n",
    "    mem2d = np.dot(np.vstack(memories), R)\n",
    "    ps2d = np.dot(np.vstack(probes), R)\n",
    "    return ps2d, mem2d\n",
    "    \n",
    "def make_heatmap(xyz, mem2d, resolution):\n",
    "    Q = np.zeros((resolution,resolution))\n",
    "    mcoords = []\n",
    "    minx, maxx = np.min(xyz['x']), np.max(xyz['x'])\n",
    "    miny, maxy = np.min(xyz['y']), np.max(xyz['y'])\n",
    "    \n",
    "    for i in range(len(xyz['x'])):\n",
    "        m = interp1D(xyz['x'][i], minx, maxx, resolution)\n",
    "        n = interp1D(xyz['y'][i], miny, maxy, resolution)\n",
    "        Q[m,n] = xyz['z'][i]\n",
    "        \n",
    "    for i in range(len(mem2d)):\n",
    "        m = interp1D(mem2d[i,0], minx, maxx, resolution)\n",
    "        n = interp1D(mem2d[i,1], miny, maxy, resolution)\n",
    "        mcoords.append((m,n))\n",
    "        \n",
    "    return Q, mcoords"
   ]
  },
  {
   "cell_type": "markdown",
   "metadata": {},
   "source": [
    "### Visualize in 2D\n",
    "Having reduced the dimensionality of everything, we can plot the cloud in 2 dimensions. Note that the black dots are usually near the similarity \"hot spots\", aka the areas where probes changed more dramatically.\n",
    "\n",
    "You won't see this pattern every time owing to 1) my primitive dimensionality reduction and 2) the fact that I'm not directly measuring energy...I'm looking at how much a given probe differs from its activation, which _might_ have a loose correlation with the energy landscape"
   ]
  },
  {
   "cell_type": "code",
   "execution_count": 122,
   "metadata": {
    "collapsed": false
   },
   "outputs": [
    {
     "data": {
      "text/plain": [
       "[]"
      ]
     },
     "execution_count": 122,
     "metadata": {},
     "output_type": "execute_result"
    },
    {
     "data": {
      "image/png": "[encoded data removed]",
      "text/plain": [
       "<matplotlib.figure.Figure at 0x108c25f50>"
      ]
     },
     "metadata": {},
     "output_type": "display_data"
    }
   ],
   "source": [
    "resolution = 120\n",
    "ps2d, mem2d = transform_to_2d(probes, memories)\n",
    "xyz = {'x': ps2d[:,0], 'y': ps2d[:,1], 'z': np.vstack(similarities)[:,0]}\n",
    "Q, mcoords = make_heatmap(xyz, mem2d, resolution=resolution)\n",
    "\n",
    "\n",
    "fig, ax = plt.subplots(1)\n",
    "plt.title(\"Energy landscape of $\\mathbf{W}$ matrix\")\n",
    "ax.imshow(Q, interpolation='none')\n",
    "\n",
    "for i in range(len(mcoords)):\n",
    "    rect = patches.Circle(mcoords[i],1.5,linewidth=1,edgecolor='k',facecolor='k')\n",
    "    ax.add_patch(rect)\n",
    "ax.set_ylim([0,resolution]) ; ax.set_xlim([0,resolution])\n",
    "\n",
    "plt.plot()"
   ]
  },
  {
   "cell_type": "code",
   "execution_count": null,
   "metadata": {
    "collapsed": true
   },
   "outputs": [],
   "source": []
  },
  {
   "cell_type": "code",
   "execution_count": null,
   "metadata": {
    "collapsed": true
   },
   "outputs": [],
   "source": []
  }
 ],
 "metadata": {
  "kernelspec": {
   "display_name": "Python 2",
   "language": "python",
   "name": "python2"
  },
  "language_info": {
   "codemirror_mode": {
    "name": "ipython",
    "version": 2
   },
   "file_extension": ".py",
   "mimetype": "text/x-python",
   "name": "python",
   "nbconvert_exporter": "python",
   "pygments_lexer": "ipython2",
   "version": "2.7.10"
  }
 },
 "nbformat": 4,
 "nbformat_minor": 1
}

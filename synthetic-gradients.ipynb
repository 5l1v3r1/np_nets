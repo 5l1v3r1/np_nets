{
 "cells": [
  {
   "cell_type": "markdown",
   "metadata": {},
   "source": [
    "# Synthetic gradients\n",
    "\n",
    "Sam Greydanus | September 2017 | MIT License"
   ]
  },
  {
   "cell_type": "code",
   "execution_count": 1,
   "metadata": {
    "collapsed": true
   },
   "outputs": [],
   "source": [
    "from __future__ import print_function\n",
    "import numpy as np\n",
    "import matplotlib.pyplot as plt\n",
    "import torch\n",
    "from torchvision import datasets, transforms"
   ]
  },
  {
   "cell_type": "code",
   "execution_count": 2,
   "metadata": {
    "collapsed": true
   },
   "outputs": [],
   "source": [
    "class Mnist():\n",
    "    def __init__(self, batch_size):\n",
    "        self.batch_size = batch_size\n",
    "        self.modes = modes = ['train', 'test']\n",
    "        trans = transforms.Compose([transforms.ToTensor(),]) # transforms.Normalize((0.1307,), (0.3081,))\n",
    "        dsets = {k: datasets.MNIST('./data', train=k=='train', download=True, transform=trans) for k in modes}\n",
    "        self.loaders = {k: torch.utils.data.DataLoader(dsets[k], batch_size=batch_size, shuffle=True) for k in modes}\n",
    "\n",
    "    def next(self, mode='train'):\n",
    "        X, y = next(iter(self.loaders[mode]))\n",
    "        return X.resize_(self.batch_size, 28**2).numpy(), y.numpy()"
   ]
  },
  {
   "cell_type": "code",
   "execution_count": 3,
   "metadata": {
    "collapsed": true
   },
   "outputs": [],
   "source": [
    "def get_accuracy(model, mnist, nsamples=10000, mode='test'):\n",
    "    assert mode in mnist.modes, 'incorrect mode supplied'\n",
    "    assert nsamples >= 10*mnist.batch_size\n",
    "    pool_size, correct = 0, 0\n",
    "    total_correct = 0 ; total = 0 ; acc_list = []\n",
    "    nbatches = int(nsamples/mnist.batch_size)\n",
    "    for _ in range(nbatches):\n",
    "        pool_size += mnist.batch_size\n",
    "        X, y = mnist.next(mode)\n",
    "        y_hat = model(X)\n",
    "        correct += sum(y_hat.argmax(axis=1) == y)\n",
    "        if pool_size > nsamples/10:\n",
    "            acc_list.append(100*correct/pool_size)\n",
    "            total_correct += correct\n",
    "            pool_size, correct = 0, 0\n",
    "    mean, std = 100*total_correct/(nbatches*mnist.batch_size), np.std(acc_list)\n",
    "    return mean, std"
   ]
  },
  {
   "cell_type": "code",
   "execution_count": 4,
   "metadata": {
    "collapsed": true
   },
   "outputs": [],
   "source": [
    "def forward(X, model):\n",
    "    # evaluate class scores, [N x K]\n",
    "    saved = {'X': X.copy()}\n",
    "    \n",
    "    h1 = np.dot(X, model['W1']) + model['b1'] # linear layer\n",
    "    h1[h1<0] = 0 # relu\n",
    "    saved['h1'] = h1\n",
    "    \n",
    "    h2 = np.dot(h1, model['W2']) + model['b2'] # linear layer\n",
    "    h2[h2<0] = 0 # relu\n",
    "    saved['h2'] = h2\n",
    "    \n",
    "    e = np.exp(h2 - np.amax(h2, axis=1, keepdims=True))\n",
    "    probs = e / np.sum(e, axis=1, keepdims=True) # softmax cap\n",
    "    return probs, saved"
   ]
  },
  {
   "cell_type": "code",
   "execution_count": 5,
   "metadata": {
    "collapsed": true
   },
   "outputs": [],
   "source": [
    "def backward(y, y_hat, model, saved, smodel=None, use_stale_dhs=False):\n",
    "    batch_size = y.shape[0]\n",
    "    grad = { k : np.zeros_like(v) for k,v in model.items() }\n",
    "    \n",
    "    # negative log likelihood\n",
    "    nll_loss = -np.log(y_hat[range(batch_size),y]).mean()\n",
    "    y_hat[range(batch_size),y] -= 1 # backwards through softmax\n",
    "    saved['dh2'] = y_hat/batch_size\n",
    "    \n",
    "    # second hidden layer\n",
    "    grad['W2'] = np.dot(saved['h1'].T, saved['dh2'])\n",
    "    grad['b2'] = np.sum(saved['dh2'], axis=0, keepdims=True)\n",
    "\n",
    "    # first hidden layer\n",
    "    if smodel is None and not use_stale_dhs:\n",
    "        saved['dh1'] = np.dot(saved['dh2'], model['W2'].T)   # backwards through linear layer\n",
    "        saved['dh1'][saved['h1'] <= 0] = 0                   # backwards through relu\n",
    "    else:\n",
    "        saved['dh1'] = np.dot(saved['h1'], smodel['W1']) + smodel['b1'] # THE SYNTHETIC GRAD PART\n",
    "        \n",
    "    grad['W1'] = np.dot(saved['X'].T, saved['dh1'])\n",
    "    grad['b1'] = np.sum(saved['dh1'], axis=0, keepdims=True)\n",
    "    return nll_loss, grad"
   ]
  },
  {
   "cell_type": "code",
   "execution_count": 6,
   "metadata": {
    "collapsed": true
   },
   "outputs": [],
   "source": [
    "def sbackward(saved_bp, saved_synth, smodel, saved):\n",
    "    sgrad = { k : np.zeros_like(v) for k,v in smodel.items() }\n",
    "    d_target = saved_synth['dh1'] - saved_bp['dh1']\n",
    "    sloss = (d_target**2).mean() # l2 loss\n",
    "    \n",
    "    sgrad['W1'] += np.dot(saved_bp['h1'].T, d_target)\n",
    "    sgrad['b1'] += np.sum(d_target, axis=0, keepdims=True)\n",
    "    return sloss, sgrad"
   ]
  },
  {
   "cell_type": "code",
   "execution_count": 7,
   "metadata": {},
   "outputs": [],
   "source": [
    "def train(model, smodel, mnist, args, horizon=20):\n",
    "    loss_hist = [] ; acc_hist = []\n",
    "    rmsprop = { k : np.zeros_like(v) for k,v in model.items() } # rmsprop gradient cache\n",
    "    for step in range(args['max_steps'] + 1):\n",
    "        \n",
    "        X, y = mnist.next()\n",
    "        y_hat, saved = forward(X, model)\n",
    "        \n",
    "        # get REAL loss and SYNTHETIC grad\n",
    "        loss, grad = backward(y, y_hat.copy(), model, saved, smodel, use_stale_dhs=args['use_synth_grad'])\n",
    "        \n",
    "        # upgrade synthetic grad model\n",
    "        if step % args['real_grad_every'] == 0 or step < 100:\n",
    "            saved_synth = saved.copy()\n",
    "            loss, grad = backward(y, y_hat.copy(), model, saved, smodel=None) # get REAL loss and REAL grad\n",
    "            saved_bp = saved.copy()\n",
    "            sloss, sgrad = sbackward(saved_bp, saved_synth, smodel, saved)\n",
    "            \n",
    "            # update synthetic model and regular model\n",
    "            smodel = {k : smodel[k] - args['lr']*sgrad[k] for (k,v) in sgrad.items()}\n",
    "            \n",
    "        # parameter update\n",
    "        for k,v in model.items():\n",
    "            rmsprop[k] = args['rms_decay'] * rmsprop[k] + (1-args['rms_decay']) * grad[k]**2\n",
    "            if step > 100: model[k] -= args['lr'] * grad[k] / (np.sqrt(rmsprop[k]) + 1e-5)\n",
    "        \n",
    "        # bookkeeping\n",
    "        end = '\\r'\n",
    "        loss_hist += [loss]\n",
    "        run_loss = sum(loss_hist[-horizon:])/min(horizon, step+1)\n",
    "        if step % args['test_every'] == 0:\n",
    "            get_y_hat = lambda X: forward(X, model)[0]\n",
    "            acc, acc_std = get_accuracy(model=get_y_hat, mnist=mnist)\n",
    "            acc_hist += [[acc, acc_std]] ; end = '\\n'\n",
    "        print('step {} | loss {:.4f} | sloss {:.4f} | acc {:.2f}% +/- {:.2f}'\\\n",
    "              .format(step, run_loss, sloss, acc, acc_std), end=end)\n",
    "        \n",
    "    return model, loss_hist, acc_hist"
   ]
  },
  {
   "cell_type": "code",
   "execution_count": 13,
   "metadata": {},
   "outputs": [
    {
     "name": "stdout",
     "output_type": "stream",
     "text": [
      "step 0 | loss 2.4495 | sloss 0.0056 | acc 14.63% +/- 0.78\n",
      "step 500 | loss 2.2617 | sloss 0.0013 | acc 20.21% +/- 1.55\n",
      "step 1000 | loss 1.8909 | sloss 0.0012 | acc 38.99% +/- 1.46\n",
      "step 1500 | loss 1.5282 | sloss 0.0011 | acc 50.89% +/- 1.63\n",
      "step 2000 | loss 1.3576 | sloss 0.0009 | acc 56.30% +/- 1.54\n",
      "step 2500 | loss 1.2664 | sloss 0.0007 | acc 61.39% +/- 1.37\n",
      "step 3000 | loss 1.1686 | sloss 0.0006 | acc 64.14% +/- 1.91\n",
      "step 3500 | loss 1.0784 | sloss 0.0005 | acc 65.98% +/- 0.92\n",
      "step 4000 | loss 1.0126 | sloss 0.0005 | acc 67.65% +/- 1.24\n",
      "step 4500 | loss 0.9041 | sloss 0.0004 | acc 70.54% +/- 1.19\n",
      "step 5000 | loss 0.8006 | sloss 0.0003 | acc 72.33% +/- 1.37\n",
      "step 5500 | loss 0.7861 | sloss 0.0005 | acc 72.95% +/- 0.86\n",
      "step 6000 | loss 0.6961 | sloss 0.0004 | acc 73.36% +/- 1.09\n",
      "step 6500 | loss 0.7221 | sloss 0.0038 | acc 75.33% +/- 0.52\n",
      "step 7000 | loss 0.6787 | sloss 0.0124 | acc 75.77% +/- 1.32\n",
      "step 7500 | loss 0.6248 | sloss 0.0413 | acc 76.23% +/- 1.04\n",
      "step 8000 | loss 0.6224 | sloss 2.0212 | acc 77.13% +/- 1.26\n",
      "step 8500 | loss 0.6301 | sloss 1.0077 | acc 77.38% +/- 1.22\n",
      "step 9000 | loss 0.6225 | sloss 7.9353 | acc 77.26% +/- 0.592\n",
      "step 9500 | loss 0.6163 | sloss 2.3852 | acc 78.03% +/- 0.83\n",
      "step 10000 | loss 0.5827 | sloss 0.3317 | acc 77.82% +/- 0.84\n",
      "step 10500 | loss 0.5724 | sloss 0.0559 | acc 79.48% +/- 1.16\n",
      "step 11000 | loss 0.6000 | sloss 0.0349 | acc 78.90% +/- 1.53\n",
      "step 11500 | loss 0.5917 | sloss 0.4440 | acc 79.05% +/- 1.02\n",
      "step 12000 | loss 0.5643 | sloss 0.0283 | acc 78.85% +/- 0.92\n",
      "step 12500 | loss 0.5716 | sloss 0.1773 | acc 79.36% +/- 0.74\n",
      "step 13000 | loss 0.5374 | sloss 509.7853 | acc 79.27% +/- 0.90\n",
      "step 13500 | loss 0.5584 | sloss 2787826118.5341 | acc 78.75% +/- 0.89\n",
      "step 14000 | loss 0.5860 | sloss 1854409339849190.0000 | acc 79.73% +/- 1.49\n",
      "step 14500 | loss 0.5571 | sloss 1159411052897763852288.0000 | acc 79.31% +/- 0.87\n",
      "step 15000 | loss 0.5574 | sloss 1217358989235534299765145600.0000 | acc 79.76% +/- 0.88\n",
      "step 15500 | loss 0.5252 | sloss 1840372574955508694215553781334016.0000 | acc 80.28% +/- 0.99\n",
      "step 16000 | loss 0.5313 | sloss 34212036349956051780342850725481226960896.0000 | acc 79.79% +/- 0.72\n",
      "step 16500 | loss 0.5208 | sloss 10155425591099732665021062667856065653389656064.0000 | acc 79.60% +/- 0.71\n",
      "step 17000 | loss 0.5750 | sloss 920645847401773093735610303148147000305733188190208.0000 | acc 79.32% +/- 0.97\n",
      "step 17500 | loss 0.5145 | sloss 72335248440776158930355332660249693899755182812177880842240.0000 | acc 80.20% +/- 0.97\n",
      "step 18000 | loss 0.5317 | sloss 73755422586352825145720696072126228366141058290379419084145033216.0000 | acc 79.60% +/- 0.54\n",
      "step 18500 | loss 0.5368 | sloss 13748000732113809897378583278923465935126901642073762438818558742888448.0000 | acc 80.00% +/- 0.88\n",
      "step 19000 | loss 0.5539 | sloss 1959356605377122924897095046989033973094552236455804113301301074853518901248.0000 | acc 79.80% +/- 1.04\n",
      "step 19500 | loss 0.5593 | sloss 773500764538326937915409912309303195924426661771220380749120353472761551810199552.0000 | acc 80.07% +/- 0.80\n",
      "step 20000 | loss 0.5573 | sloss 185011477983408857614551473189440333554871558450342719987581792878342280641948336259072.0000 | acc 79.96% +/- 0.92\n"
     ]
    }
   ],
   "source": [
    "np.random.seed(1)\n",
    "args = {'batch_size': 128, 'lr': 1e-4, 'slr': 5e-4,\n",
    "        'rms_decay': 0.9, 'use_synth_grad': True,\n",
    "        'real_grad_every': 10, 'h_size': 128, 'test_every': 500,\n",
    "        'max_steps': 20000, 'save_dir': './save/'}\n",
    "\n",
    "model = {}\n",
    "# first layer\n",
    "model['W1'] = np.random.randn(28**2, args['h_size']) / np.sqrt(args['h_size']) # Xavier initialization\n",
    "model['b1'] = np.zeros((1,args['h_size']))\n",
    "model['W2'] = np.random.randn(args['h_size'],10) / np.sqrt(10)\n",
    "model['b2'] = np.zeros((1,10))\n",
    "\n",
    "# simplest possible synthetic gradient model\n",
    "smodel = {}\n",
    "smodel['W1'] = np.random.randn(args['h_size'], args['h_size']) / 1000*np.sqrt(args['h_size']) # Xavier initialization\n",
    "smodel['b1'] = np.zeros((1,args['h_size']))\n",
    "\n",
    "mnist = Mnist(args['batch_size'])\n",
    "model, loss_hist, acc_hist = train(model, smodel, mnist, args)"
   ]
  },
  {
   "cell_type": "code",
   "execution_count": 14,
   "metadata": {},
   "outputs": [
    {
     "name": "stdout",
     "output_type": "stream",
     "text": [
      "step 0 | loss 2.3332 | sloss 0.0054 | acc 15.13% +/- 0.85\n",
      "step 500 | loss 2.2680 | sloss 0.0012 | acc 21.42% +/- 1.21\n",
      "step 1000 | loss 1.8428 | sloss 0.0012 | acc 37.95% +/- 1.88\n",
      "step 1500 | loss 1.5311 | sloss 0.0011 | acc 49.89% +/- 1.23\n",
      "step 2000 | loss 1.3349 | sloss 0.0009 | acc 55.37% +/- 0.99\n",
      "step 2500 | loss 1.1120 | sloss 0.0008 | acc 60.99% +/- 1.70\n",
      "step 3000 | loss 1.0477 | sloss 0.0007 | acc 64.42% +/- 1.60\n",
      "step 3500 | loss 1.0043 | sloss 0.0006 | acc 66.91% +/- 2.01\n",
      "step 4000 | loss 0.9293 | sloss 0.0005 | acc 68.50% +/- 0.75\n",
      "step 4500 | loss 0.8436 | sloss 0.0004 | acc 69.18% +/- 1.09\n",
      "step 5000 | loss 0.8470 | sloss 0.0003 | acc 71.10% +/- 1.21\n",
      "step 5500 | loss 0.8111 | sloss 0.0003 | acc 72.49% +/- 1.44\n",
      "step 6000 | loss 0.7642 | sloss 0.0003 | acc 73.19% +/- 1.38\n",
      "step 6500 | loss 0.7289 | sloss 0.0002 | acc 74.06% +/- 1.49\n",
      "step 7000 | loss 0.7315 | sloss 0.0002 | acc 74.08% +/- 0.72\n",
      "step 7500 | loss 0.6980 | sloss 0.0002 | acc 74.80% +/- 0.71\n",
      "step 8000 | loss 0.6787 | sloss 0.0002 | acc 75.24% +/- 1.08\n",
      "step 8500 | loss 0.6377 | sloss 0.0002 | acc 76.07% +/- 1.20\n",
      "step 9000 | loss 0.6276 | sloss 0.0052 | acc 76.36% +/- 1.36\n",
      "step 9500 | loss 0.6383 | sloss 25.1805 | acc 77.17% +/- 1.53\n",
      "step 10000 | loss 0.5604 | sloss 40141.7027 | acc 77.08% +/- 0.82\n",
      "step 10500 | loss 0.5722 | sloss 507843824.9864 | acc 76.93% +/- 1.51\n",
      "step 11000 | loss 0.5609 | sloss 253798761869.4677 | acc 77.37% +/- 1.43\n",
      "step 11500 | loss 0.6289 | sloss 2366971649537018.5000 | acc 76.85% +/- 0.90\n",
      "step 12000 | loss 0.5633 | sloss 882522396107651678208.0000 | acc 77.68% +/- 1.31\n",
      "step 12500 | loss 0.5697 | sloss 369619412451849767659503616.0000 | acc 77.85% +/- 0.97\n",
      "step 13000 | loss 0.5439 | sloss 138499704970837754478723013279744.0000 | acc 78.36% +/- 0.94\n",
      "step 13500 | loss 0.5033 | sloss 78425756593612332657651219749318688768.0000 | acc 78.71% +/- 1.02\n",
      "step 14000 | loss 0.5342 | sloss 19230173456607795597025321201083143338065920.0000 | acc 79.06% +/- 0.69\n",
      "step 14500 | loss 0.4808 | sloss 1538873712770341907664922143162240849767387103232.0000 | acc 78.64% +/- 0.89\n",
      "step 15000 | loss 0.5346 | sloss 8530774412432267639021495911595377524487086545823596544.0000 | acc 78.63% +/- 1.19\n",
      "step 15500 | loss 0.5645 | sloss 60178553620118115308721718882150494750616043849307759587622912.0000 | acc 79.69% +/- 0.89\n",
      "step 16000 | loss 0.5271 | sloss 103164229061339560728897639958945788317896979760118464980100029874176.0000 | acc 79.24% +/- 0.86\n",
      "step 16500 | loss 0.5359 | sloss 1790083375518323236807304153175456653517113269139663809142786607314926305280.0000 | acc 79.33% +/- 0.50\n",
      "step 17000 | loss 0.5382 | sloss 85241701181064129221284290712284645811051276688600992159427396585365890026929389568.0000 | acc 79.22% +/- 1.15\n",
      "step 17500 | loss 0.5643 | sloss 17689833724278372189125314093754779848062468157819256136246929496743436995286061998407680.0000 | acc 79.29% +/- 0.99\n",
      "step 18000 | loss 0.4883 | sloss 37171949552046653534737151024844850577939170279305387855599086339270910241828492234013850730496.0000 | acc 79.77% +/- 1.32\n",
      "step 18500 | loss 0.5066 | sloss 805638129748647807254721630594128144628200331656860431232299554568127757018410461062150169280118784.0000 | acc 79.10% +/- 1.45\n",
      "step 19000 | loss 0.5434 | sloss 132707244988259347976950645930190439456890128019301151107010018148853164185758627251638181025703408959488.0000 | acc 79.04% +/- 0.71\n",
      "step 19500 | loss 0.5604 | sloss 67292779817348793341164876982079855644322202012905413758540678056064225686564206160436726637686272433575690240.0000 | acc 79.78% +/- 1.24\n",
      "step 20000 | loss 0.4841 | sloss 103547975802604524945139506381020614893573561035082067514121697752087316910937705117244521227357949931598627647520768.0000 | acc 79.76% +/- 0.55\n"
     ]
    }
   ],
   "source": [
    "np.random.seed(1)\n",
    "args['use_synth_grad'] = False\n",
    "\n",
    "model = {}\n",
    "# first layer\n",
    "model['W1'] = np.random.randn(28**2, args['h_size']) / np.sqrt(args['h_size']) # Xavier initialization\n",
    "model['b1'] = np.zeros((1,args['h_size']))\n",
    "model['W2'] = np.random.randn(args['h_size'],10) / np.sqrt(10)\n",
    "model['b2'] = np.zeros((1,10))\n",
    "\n",
    "# simplest possible synthetic gradient model\n",
    "smodel = {}\n",
    "smodel['W1'] = np.random.randn(args['h_size'], args['h_size']) / 1000*np.sqrt(args['h_size']) # Xavier initialization\n",
    "smodel['b1'] = np.zeros((1,args['h_size']))\n",
    "\n",
    "mnist = Mnist(args['batch_size'])\n",
    "model, loss_hist_cont, acc_hist_cont = train(model, smodel, mnist, args)"
   ]
  },
  {
   "cell_type": "code",
   "execution_count": 11,
   "metadata": {},
   "outputs": [
    {
     "data": {
      "image/png": "[encoded data removed]",
      "text/plain": [
       "<matplotlib.figure.Figure at 0x1167bc160>"
      ]
     },
     "metadata": {},
     "output_type": "display_data"
    }
   ],
   "source": [
    "loss_data = np.vstack(loss_hist)\n",
    "acc_data = np.vstack(acc_hist)\n",
    "\n",
    "loss_data_cont = np.vstack(loss_hist_cont)\n",
    "acc_data_cont = np.vstack(acc_hist_cont)\n",
    "\n",
    "f = plt.figure(figsize=[12,4])\n",
    "plt.subplot(1,2,1) ; plt.title(\"Train loss\") ; plt.xlabel(\"steps\")\n",
    "plt.plot(range(len(loss_hist)), loss_data, 'orange', label='synthetic')\n",
    "plt.plot(range(len(loss_hist_cont)), loss_data_cont, 'blue', label='control')\n",
    "plt.ylim([0,3])\n",
    "plt.legend()\n",
    "\n",
    "plt.subplot(1,2,2) ; plt.title(\"Test accuracy\") ; plt.xlabel(\"steps\")\n",
    "plt.errorbar(range(len(loss_hist))[::500], acc_data[:,0], yerr=acc_data[:,1], errorevery=1, label='synthetic')\n",
    "plt.errorbar(range(len(loss_hist_cont))[::500], acc_data_cont[:,0], yerr=acc_data_cont[:,1], errorevery=1, label='control')\n",
    "plt.ylim([25,100])\n",
    "plt.legend()\n",
    "plt.show() ; f.savefig('./static/synthetic.png', bbox_inches='tight')"
   ]
  },
  {
   "cell_type": "code",
   "execution_count": 12,
   "metadata": {},
   "outputs": [
    {
     "data": {
      "image/png": "[encoded data removed]",
      "text/plain": [
       "<matplotlib.figure.Figure at 0x115d7e5c0>"
      ]
     },
     "metadata": {},
     "output_type": "display_data"
    }
   ],
   "source": [
    "X, y = mnist.next()\n",
    "y_hat, saved = forward(X, model)\n",
    "predictions = y_hat.argmax(axis=1)\n",
    "\n",
    "rows = 2\n",
    "cols = 5\n",
    "side = 2\n",
    "f = plt.figure(figsize=[cols*side,rows*side])\n",
    "for r in range(rows):\n",
    "    for c in range(cols):\n",
    "        img_ix = r*cols + c\n",
    "        plt.subplot(rows, cols, img_ix+1)\n",
    "        plt.title(\"pred: {}\".format(predictions[img_ix]))\n",
    "        plt.imshow(X[img_ix].reshape(28,28), cmap='gray')\n",
    "        \n",
    "        f.axes[img_ix].get_xaxis().set_visible(False)\n",
    "        f.axes[img_ix].get_yaxis().set_visible(False)\n",
    "plt.show()"
   ]
  },
  {
   "cell_type": "code",
   "execution_count": null,
   "metadata": {
    "collapsed": true
   },
   "outputs": [],
   "source": []
  }
 ],
 "metadata": {
  "kernelspec": {
   "display_name": "Python 3",
   "language": "python",
   "name": "python3"
  },
  "language_info": {
   "codemirror_mode": {
    "name": "ipython",
    "version": 3
   },
   "file_extension": ".py",
   "mimetype": "text/x-python",
   "name": "python",
   "nbconvert_exporter": "python",
   "pygments_lexer": "ipython3",
   "version": "3.6.1"
  }
 },
 "nbformat": 4,
 "nbformat_minor": 2
}

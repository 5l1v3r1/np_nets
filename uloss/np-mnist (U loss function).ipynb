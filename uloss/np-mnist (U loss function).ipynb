{
 "cells": [
  {
   "cell_type": "markdown",
   "metadata": {},
   "source": [
    "# Simple NN for MNIST: Trained with 'U' Loss function\n",
    "Sam Greydanus. 27 April 2017. MIT License.\n",
    "\n",
    "The idea behind the 'U loss function' is to penalize neurons when their activations cause the next layer of neurons to fire moderately but reward them when their activations cause the next layer of neurons to fire very strongly. No reward is given for low activations.\n",
    "\n",
    "The toughest part is defining what \"strong activations\" vs \"moderate activations\" vs \"low activations\" means mathematically. Here I keep a running approximation of the mean and variance of each neurons' activations. Then I compare their current activation ($x$) to their historical mean ($\\mu$) and historical variance ($\\sigma$) using the `uloss(x,mus,sigmas)` function (in the 'Forward functions' section).\n",
    "\n",
    "Once I have the equivalent of a cost function for each activation, I backprop these values through the current layer and thus them to update the previous layer's weights. In this way, the previous layer is rewarded for producing strong/low activations in the next layer and penalized for producing moderate activations.\n",
    "\n",
    "Ideas adapted from personal correspondance with Kenneth Norman...though I'm really not sure if this is what he had in mind\n",
    "\n",
    "### Findings\n",
    "When you compare w/ the backprop version of this notebook and the version where I only do backprop on the top layer, this method doesn't really help with training. Explanations: 1) I messed something up in my code 2) I made some poor assumptions when translating the idea into an code implementation 3) this is not a good way of training neural nets"
   ]
  },
  {
   "cell_type": "code",
   "execution_count": 1,
   "metadata": {},
   "outputs": [
    {
     "name": "stdout",
     "output_type": "stream",
     "text": [
      "Extracting MNIST_data/train-images-idx3-ubyte.gz\n",
      "Extracting MNIST_data/train-labels-idx1-ubyte.gz\n",
      "Extracting MNIST_data/t10k-images-idx3-ubyte.gz\n",
      "Extracting MNIST_data/t10k-labels-idx1-ubyte.gz\n"
     ]
    }
   ],
   "source": [
    "import numpy as np\n",
    "import matplotlib.pyplot as plt\n",
    "import matplotlib.cm as cm\n",
    "%matplotlib inline\n",
    "\n",
    "from tensorflow.examples.tutorials.mnist import input_data\n",
    "mnist = input_data.read_data_sets('MNIST_data', one_hot=False)"
   ]
  },
  {
   "cell_type": "code",
   "execution_count": 2,
   "metadata": {
    "collapsed": true
   },
   "outputs": [],
   "source": [
    "lr = 1e-3\n",
    "batch_size = 32\n",
    "global_step = 0\n",
    "print_every = 500\n",
    "total_steps = 10000\n",
    "\n",
    "D_hidden = 128 # hidden layer size\n",
    "D_side = 28\n",
    "D_img = D_side**2 # dimensionality of image\n",
    "D_labels = 10 # number of labels"
   ]
  },
  {
   "cell_type": "markdown",
   "metadata": {},
   "source": [
    "## Model Initialization"
   ]
  },
  {
   "cell_type": "code",
   "execution_count": 3,
   "metadata": {},
   "outputs": [
    {
     "name": "stdout",
     "output_type": "stream",
     "text": [
      "W1 : (784, 128)\n",
      "b1 : (1, 128)\n",
      "W2 : (128, 128)\n",
      "b2 : (1, 128)\n",
      "W3 : (128, 10)\n",
      "b3 : (1, 10)\n"
     ]
    }
   ],
   "source": [
    "model = {}\n",
    "# first layer\n",
    "model['W1'] = np.random.randn(D_img,D_hidden) / np.sqrt(D_hidden) # Xavier initialization\n",
    "model['b1'] = np.random.randn(1,D_hidden) / np.sqrt(D_hidden)\n",
    "#second layer\n",
    "model['W2'] = np.random.randn(D_hidden,D_hidden) / np.sqrt(D_hidden)\n",
    "model['b2'] = np.random.randn(1,D_hidden) / np.sqrt(D_hidden)\n",
    "#third layer\n",
    "model['W3'] = np.random.randn(D_hidden,D_labels) / np.sqrt(D_labels)\n",
    "model['b3'] = np.random.randn(1,D_labels) / np.sqrt(D_labels)\n",
    "\n",
    "for (k,v) in model.items(): print(\"{} : {}\".format(k, v.shape))"
   ]
  },
  {
   "cell_type": "markdown",
   "metadata": {},
   "source": [
    "## Forward functions"
   ]
  },
  {
   "cell_type": "code",
   "execution_count": 4,
   "metadata": {
    "collapsed": true
   },
   "outputs": [],
   "source": [
    "def xW_plus_b(x, W, b):\n",
    "    return np.dot(x,W) + b # in some cases you can even drop the bias b\n",
    "\n",
    "def relu(x):\n",
    "    x[x<0] = 0\n",
    "    return x\n",
    "\n",
    "def softmax(x):\n",
    "    maxes = np.amax(x, axis=1, keepdims=True)\n",
    "    e = np.exp(x - maxes) # improves numerics\n",
    "    dist = e / np.sum(e, axis=1, keepdims=True)\n",
    "    return dist\n",
    "\n",
    "def gaussian(x, mu, sigma):\n",
    "    a = 1./(sigma*2.5+1e-6)\n",
    "    return a * np.exp(-.5*((x-mu)/(sigma+1e-6))**2)\n",
    "\n",
    "def uloss(x, mus, sigmas):\n",
    "    clip = (x<(m+3*s)) * (x>(m-s))\n",
    "    d = clip * x + (1-clip)*np.ones_like(x)*(m-s)\n",
    "    return (-gaussian(d,m,s)+.25)*.001 # note: these are some arbitrarily chosen constants that SEEMED like good choices"
   ]
  },
  {
   "cell_type": "code",
   "execution_count": 13,
   "metadata": {},
   "outputs": [
    {
     "data": {
      "image/png": "[encoded data removed]",
      "text/plain": [
       "<matplotlib.figure.Figure at 0x11198e278>"
      ]
     },
     "metadata": {},
     "output_type": "display_data"
    }
   ],
   "source": [
    "k = 100\n",
    "x = np.linspace(-4,4,k)\n",
    "m = 0 ; s = 1# np.ones(k)*.01 ; np.linspace(-1,1,k)\n",
    "plt.title(\"The U loss function\")\n",
    "plt.plot(x,uloss(x,m,s), 'k-') ; plt.show()"
   ]
  },
  {
   "cell_type": "markdown",
   "metadata": {},
   "source": [
    "## Backward functions"
   ]
  },
  {
   "cell_type": "code",
   "execution_count": 6,
   "metadata": {
    "collapsed": true
   },
   "outputs": [],
   "source": [
    "def dsoftmax(h, y, batch_size):\n",
    "    h[range(batch_size),y] -= 1\n",
    "    return h/y.shape[0] # divide by batch size\n",
    "\n",
    "def drelu(dz, h):\n",
    "    dz[h <= 0] = 0 # backprop relu\n",
    "    return dz\n",
    "\n",
    "def dxW_plus_b(dh, W):\n",
    "    return np.dot(dh, W.T)"
   ]
  },
  {
   "cell_type": "markdown",
   "metadata": {},
   "source": [
    "## Forward pass"
   ]
  },
  {
   "cell_type": "code",
   "execution_count": 7,
   "metadata": {
    "collapsed": true
   },
   "outputs": [],
   "source": [
    "def forward(X, model):\n",
    "    # evaluate class scores, [N x K]\n",
    "    hs = [] # we'll need the h's for computing gradients\n",
    "    \n",
    "    z1 = xW_plus_b(X, model['W1'], model['b1'])\n",
    "    h1 = relu(z1) ; hs.append(h1)\n",
    "    \n",
    "    z2 = xW_plus_b(h1, model['W2'], model['b2'])\n",
    "    h2 = relu(z2) ; hs.append(h2)\n",
    "    \n",
    "    z3 = xW_plus_b(h2, model['W3'], model['b3'])\n",
    "    h3 = z3 ; hs.append(h3)\n",
    "    \n",
    "    probs = softmax(h3)\n",
    "    \n",
    "    return probs, hs"
   ]
  },
  {
   "cell_type": "code",
   "execution_count": 8,
   "metadata": {
    "collapsed": true
   },
   "outputs": [],
   "source": [
    "# evaluate test set accuracy\n",
    "def test_accuracy(model):\n",
    "    X = mnist.test.images\n",
    "    y = mnist.test.labels\n",
    "    scores, _ = forward(X, model)\n",
    "    predicted_class = np.argmax(scores, axis=1)\n",
    "    return (np.mean(predicted_class == y))"
   ]
  },
  {
   "cell_type": "markdown",
   "metadata": {},
   "source": [
    "## Backward pass"
   ]
  },
  {
   "cell_type": "code",
   "execution_count": 9,
   "metadata": {
    "collapsed": true
   },
   "outputs": [],
   "source": [
    "def backward(y, probs, stats, X, hs, model):\n",
    "    grads = { k : np.zeros_like(v) for k,v in model.items() }\n",
    "    \n",
    "    # third hidden layer\n",
    "    dh3 = dsoftmax(probs, y, batch_size)\n",
    "    \n",
    "    grads['W3'] = np.dot(hs[-2].T, dh3)\n",
    "    grads['b3'] = np.sum(dh3, axis=0, keepdims=True)\n",
    "    \n",
    "    # second hidden layer\n",
    "    dh3 = uloss(hs[-1],stats['mus'][-1], stats['sigmas'][-1])\n",
    "    \n",
    "    dh2 = dxW_plus_b(dh3, model['W3']) #; print(dh2)\n",
    "    dh2 = drelu(dh2, hs[-2]) # backprop through relu\n",
    "    grads['W2'] = np.dot(hs[-3].T, dh2)\n",
    "    grads['b2'] = np.sum(dh2, axis=0, keepdims=True)\n",
    "\n",
    "    # first hidden layer\n",
    "    dh2 = uloss(hs[-2],stats['mus'][-2], stats['sigmas'][-2])\n",
    "    \n",
    "    dh1 = dxW_plus_b(dh2, model['W2'])\n",
    "    dh1 = drelu(dh1, hs[-3]) # backprop through relu\n",
    "    grads['W1'] = np.dot(X.T, dh1)\n",
    "    grads['b1'] = np.sum(dh1, axis=0, keepdims=True)\n",
    "    return grads"
   ]
  },
  {
   "cell_type": "markdown",
   "metadata": {},
   "source": [
    "## Train loop"
   ]
  },
  {
   "cell_type": "code",
   "execution_count": 10,
   "metadata": {},
   "outputs": [
    {
     "name": "stdout",
     "output_type": "stream",
     "text": [
      "accuracy: 10.56%\n",
      "\tstep 0: loss: 3.6430\n",
      "\tstep 500: loss: 2.9194\n",
      "\tstep 1000: loss: 2.6196\n",
      "\tstep 1500: loss: 2.4482\n",
      "accuracy: 15.70%\n",
      "\tstep 2000: loss: 2.3614\n",
      "\tstep 2500: loss: 2.3150\n",
      "\tstep 3000: loss: 2.2570\n",
      "\tstep 3500: loss: 2.2015\n",
      "accuracy: 21.51%\n",
      "\tstep 4000: loss: 2.1697\n",
      "\tstep 4500: loss: 2.1349\n",
      "\tstep 5000: loss: 2.0903\n",
      "\tstep 5500: loss: 2.0612\n",
      "accuracy: 29.00%\n",
      "\tstep 6000: loss: 2.0206\n",
      "\tstep 6500: loss: 2.0034\n",
      "\tstep 7000: loss: 1.9812\n",
      "\tstep 7500: loss: 1.9357\n",
      "accuracy: 34.78%\n",
      "\tstep 8000: loss: 1.9341\n",
      "\tstep 8500: loss: 1.9106\n",
      "\tstep 9000: loss: 1.8904\n",
      "\tstep 9500: loss: 1.8721\n",
      "accuracy: 39.48%\n",
      "\tstep 10000: loss: 1.8691\n"
     ]
    }
   ],
   "source": [
    "# generic train loop\n",
    "interp = 0.99\n",
    "stats = {'mus':None, 'sigmas':None}\n",
    "running_loss = None\n",
    "\n",
    "for global_step in range(global_step, total_steps+global_step+1):\n",
    "    \n",
    "    # forward\n",
    "    X, y = mnist.train.next_batch(batch_size)\n",
    "    probs, hs = forward(X, model)\n",
    "    \n",
    "    y_logprobs = -np.log(probs[range(batch_size),y]) # cross-entropy loss\n",
    "    loss = np.sum(y_logprobs)/batch_size\n",
    "    \n",
    "    # feedforward stats (keep running averages of each neuron's statistics over time)\n",
    "    mus = [np.asarray(h) for h in hs]\n",
    "    sigmas = [np.ones_like(v)*.001 for v in mus] if stats['mus'] is None else [np.abs(stats['mus'][i] - mus[i]) for i in range(len(mus))]\n",
    "    stats['mus'] = mus if stats['mus'] is None else [interp*stats['mus'][i] + (1.-interp)*mus[i] for i in range(len(mus))]\n",
    "    stats['sigmas'] = sigmas if stats['sigmas'] is None else [interp*stats['sigmas'][i] + (1.-interp)*sigmas[i] for i in range(len(sigmas))]\n",
    "    \n",
    "    running_loss = loss if running_loss is None else interp*running_loss + (1.-interp)*loss\n",
    "    \n",
    "    # backward\n",
    "    grads = backward(y, probs, stats, X, hs, model) # data gradients\n",
    "    model = {k : model[k] - lr*grads[k] for (k,v) in grads.items()} # update parameters\n",
    "\n",
    "    # ======== DISPLAY PROGRESS ======== #\n",
    "    if global_step % print_every == 0:\n",
    "        if global_step / 4 % print_every == 0:\n",
    "            print('accuracy: {:.2f}%'.format(100*test_accuracy(model)))\n",
    "        print('\\tstep {}: loss: {:.4f}'\n",
    "              .format(global_step, running_loss))"
   ]
  },
  {
   "cell_type": "code",
   "execution_count": null,
   "metadata": {
    "collapsed": true
   },
   "outputs": [],
   "source": []
  }
 ],
 "metadata": {
  "kernelspec": {
   "display_name": "Python 3",
   "language": "python",
   "name": "python3"
  },
  "language_info": {
   "codemirror_mode": {
    "name": "ipython",
    "version": 3
   },
   "file_extension": ".py",
   "mimetype": "text/x-python",
   "name": "python",
   "nbconvert_exporter": "python",
   "pygments_lexer": "ipython3",
   "version": "3.6.1"
  }
 },
 "nbformat": 4,
 "nbformat_minor": 1
}

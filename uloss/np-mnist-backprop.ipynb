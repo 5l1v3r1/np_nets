{
 "cells": [
  {
   "cell_type": "markdown",
   "metadata": {},
   "source": [
    "# Simple NN for MNIST (NumPy)\n",
    "Sam Greydanus. 27 April 2017. MIT License.\n",
    "\n",
    "### Comments\n",
    "Just a regular old 3-layer neural network implemented in numpy. Should obtain 92% accuracy on MNIST pretty quickly. If you want to see the theory behind the code (in particular, a derivation of the backprop sequence), [this version](https://nbviewer.jupyter.org/github/greydanus/np_nets/blob/master/mnist_nn.ipynb) contains equations and explanations."
   ]
  },
  {
   "cell_type": "code",
   "execution_count": 1,
   "metadata": {},
   "outputs": [
    {
     "name": "stdout",
     "output_type": "stream",
     "text": [
      "Extracting MNIST_data/train-images-idx3-ubyte.gz\n",
      "Extracting MNIST_data/train-labels-idx1-ubyte.gz\n",
      "Extracting MNIST_data/t10k-images-idx3-ubyte.gz\n",
      "Extracting MNIST_data/t10k-labels-idx1-ubyte.gz\n"
     ]
    }
   ],
   "source": [
    "import numpy as np\n",
    "import matplotlib.pyplot as plt\n",
    "import matplotlib.cm as cm\n",
    "%matplotlib inline\n",
    "\n",
    "from tensorflow.examples.tutorials.mnist import input_data\n",
    "mnist = input_data.read_data_sets('MNIST_data', one_hot=False)"
   ]
  },
  {
   "cell_type": "code",
   "execution_count": 2,
   "metadata": {
    "collapsed": true
   },
   "outputs": [],
   "source": [
    "lr = 1e-3\n",
    "batch_size = 32\n",
    "global_step = 0\n",
    "print_every = 250\n",
    "total_steps = 10000\n",
    "\n",
    "D_hidden = 128 # hidden layer size\n",
    "D_side = 28\n",
    "D_img = D_side**2 # dimensionality of image\n",
    "D_labels = 10 # number of labels"
   ]
  },
  {
   "cell_type": "markdown",
   "metadata": {},
   "source": [
    "## Model Initialization"
   ]
  },
  {
   "cell_type": "code",
   "execution_count": 3,
   "metadata": {},
   "outputs": [
    {
     "name": "stdout",
     "output_type": "stream",
     "text": [
      "W1 : (784, 128)\n",
      "b1 : (1, 128)\n",
      "W2 : (128, 128)\n",
      "b2 : (1, 128)\n",
      "W3 : (128, 10)\n",
      "b3 : (1, 10)\n"
     ]
    }
   ],
   "source": [
    "model = {}\n",
    "# first layer\n",
    "model['W1'] = np.random.randn(D_img,D_hidden) / np.sqrt(D_hidden) # Xavier initialization\n",
    "model['b1'] = np.random.randn(1,D_hidden) / np.sqrt(D_hidden)\n",
    "#second layer\n",
    "model['W2'] = np.random.randn(D_hidden,D_hidden) / np.sqrt(D_hidden)\n",
    "model['b2'] = np.random.randn(1,D_hidden) / np.sqrt(D_hidden)\n",
    "#third layer\n",
    "model['W3'] = np.random.randn(D_hidden,D_labels) / np.sqrt(D_labels)\n",
    "model['b3'] = np.random.randn(1,D_labels) / np.sqrt(D_labels)\n",
    "\n",
    "for (k,v) in model.items(): print(\"{} : {}\".format(k, v.shape))"
   ]
  },
  {
   "cell_type": "markdown",
   "metadata": {},
   "source": [
    "## Forward functions"
   ]
  },
  {
   "cell_type": "code",
   "execution_count": 4,
   "metadata": {
    "collapsed": true
   },
   "outputs": [],
   "source": [
    "def xW_plus_b(x, W, b):\n",
    "    return np.dot(x,W) + b # in some cases you can even drop the bias b\n",
    "\n",
    "def relu(x):\n",
    "    x[x<0] = 0\n",
    "    return x\n",
    "\n",
    "def softmax(x):\n",
    "    maxes = np.amax(x, axis=1, keepdims=True)\n",
    "    e = np.exp(x - maxes) # improves numerics\n",
    "    dist = e / np.sum(e, axis=1, keepdims=True)\n",
    "    return dist"
   ]
  },
  {
   "cell_type": "markdown",
   "metadata": {},
   "source": [
    "## Backward functions"
   ]
  },
  {
   "cell_type": "code",
   "execution_count": 5,
   "metadata": {
    "collapsed": true
   },
   "outputs": [],
   "source": [
    "def dsoftmax(h, y, batch_size):\n",
    "    h[range(batch_size),y] -= 1\n",
    "    return h/y.shape[0] # divide by batch size\n",
    "\n",
    "def drelu(dz, h):\n",
    "    dz[h <= 0] = 0 # backprop relu\n",
    "    return dz\n",
    "\n",
    "def dxW_plus_b(dh, W):\n",
    "    return np.dot(dh, W.T)"
   ]
  },
  {
   "cell_type": "markdown",
   "metadata": {},
   "source": [
    "## Forward pass"
   ]
  },
  {
   "cell_type": "code",
   "execution_count": 6,
   "metadata": {
    "collapsed": true
   },
   "outputs": [],
   "source": [
    "def forward(X, model):\n",
    "    # evaluate class scores, [N x K]\n",
    "    hs = [] # we'll need the h's for computing gradients\n",
    "    \n",
    "    z1 = xW_plus_b(X, model['W1'], model['b1'])\n",
    "    h1 = relu(z1) ; hs.append(h1)\n",
    "    \n",
    "    z2 = xW_plus_b(h1, model['W2'], model['b2'])\n",
    "    h2 = relu(z2) ; hs.append(h2)\n",
    "    \n",
    "    z3 = xW_plus_b(h2, model['W3'], model['b3'])\n",
    "    h3 = z3 ; hs.append(h3)\n",
    "    \n",
    "    probs = softmax(h3)\n",
    "    return probs, hs"
   ]
  },
  {
   "cell_type": "code",
   "execution_count": 7,
   "metadata": {
    "collapsed": true
   },
   "outputs": [],
   "source": [
    "# evaluate test set accuracy\n",
    "def test_accuracy(model):\n",
    "    X = mnist.test.images\n",
    "    y = mnist.test.labels\n",
    "    scores, _ = forward(X, model)\n",
    "    predicted_class = np.argmax(scores, axis=1)\n",
    "    return (np.mean(predicted_class == y))"
   ]
  },
  {
   "cell_type": "markdown",
   "metadata": {},
   "source": [
    "## Backward pass"
   ]
  },
  {
   "cell_type": "code",
   "execution_count": 8,
   "metadata": {
    "collapsed": true
   },
   "outputs": [],
   "source": [
    "def backward(y, probs, X, hs, model):\n",
    "    grads = { k : np.zeros_like(v) for k,v in model.items() }\n",
    "    dh3 = dsoftmax(probs, y, batch_size)\n",
    "    \n",
    "    # third hidden layer\n",
    "    grads['W3'] = np.dot(hs[-2].T, dh3)\n",
    "    grads['b3'] = np.sum(dh3, axis=0, keepdims=True)\n",
    "    \n",
    "    # second hidden layer\n",
    "    dh2 = dxW_plus_b(dh3, model['W3'])\n",
    "    dh2 = drelu(dh2, hs[-2]) # backprop through relu\n",
    "    grads['W2'] = np.dot(hs[-3].T, dh2)\n",
    "    grads['b2'] = np.sum(dh2, axis=0, keepdims=True)\n",
    "\n",
    "    # first hidden layer\n",
    "    dh1 = dxW_plus_b(dh2, model['W2'])\n",
    "    dh1 = drelu(dh1, hs[-3]) # backprop through relu\n",
    "    grads['W1'] = np.dot(X.T, dh1)\n",
    "    grads['b1'] = np.sum(dh1, axis=0, keepdims=True)\n",
    "    return grads"
   ]
  },
  {
   "cell_type": "markdown",
   "metadata": {},
   "source": [
    "## Train loop"
   ]
  },
  {
   "cell_type": "code",
   "execution_count": 9,
   "metadata": {},
   "outputs": [
    {
     "name": "stdout",
     "output_type": "stream",
     "text": [
      "accuracy: 9.44%\n",
      "\tstep 0: loss: 3.0184\n",
      "\tstep 250: loss: 2.1615\n",
      "\tstep 500: loss: 1.6276\n",
      "\tstep 750: loss: 1.2950\n",
      "accuracy: 71.81%\n",
      "\tstep 1000: loss: 1.0794\n",
      "\tstep 1250: loss: 0.9390\n",
      "\tstep 1500: loss: 0.8458\n",
      "\tstep 1750: loss: 0.7013\n",
      "accuracy: 81.55%\n",
      "\tstep 2000: loss: 0.6848\n",
      "\tstep 2250: loss: 0.6433\n",
      "\tstep 2500: loss: 0.5948\n",
      "\tstep 2750: loss: 0.5614\n",
      "accuracy: 85.09%\n",
      "\tstep 3000: loss: 0.5473\n",
      "\tstep 3250: loss: 0.5445\n",
      "\tstep 3500: loss: 0.5160\n",
      "\tstep 3750: loss: 0.4804\n",
      "accuracy: 87.01%\n",
      "\tstep 4000: loss: 0.4667\n",
      "\tstep 4250: loss: 0.4737\n",
      "\tstep 4500: loss: 0.4504\n",
      "\tstep 4750: loss: 0.4345\n",
      "accuracy: 87.90%\n",
      "\tstep 5000: loss: 0.4459\n",
      "\tstep 5250: loss: 0.4280\n",
      "\tstep 5500: loss: 0.4310\n",
      "\tstep 5750: loss: 0.4097\n",
      "accuracy: 88.61%\n",
      "\tstep 6000: loss: 0.4157\n",
      "\tstep 6250: loss: 0.3973\n",
      "\tstep 6500: loss: 0.3664\n",
      "\tstep 6750: loss: 0.3853\n",
      "accuracy: 89.27%\n",
      "\tstep 7000: loss: 0.3850\n",
      "\tstep 7250: loss: 0.3744\n",
      "\tstep 7500: loss: 0.3633\n",
      "\tstep 7750: loss: 0.3518\n",
      "accuracy: 89.78%\n",
      "\tstep 8000: loss: 0.3642\n",
      "\tstep 8250: loss: 0.3470\n",
      "\tstep 8500: loss: 0.3443\n",
      "\tstep 8750: loss: 0.3512\n",
      "accuracy: 90.18%\n",
      "\tstep 9000: loss: 0.3531\n",
      "\tstep 9250: loss: 0.3556\n",
      "\tstep 9500: loss: 0.3132\n",
      "\tstep 9750: loss: 0.3406\n",
      "accuracy: 90.45%\n",
      "\tstep 10000: loss: 0.3255\n"
     ]
    }
   ],
   "source": [
    "# generic train loop\n",
    "running_loss = None ; interp = 0.99\n",
    "for global_step in range(global_step, total_steps+global_step+1):\n",
    "    \n",
    "    # forward\n",
    "    X, y = mnist.train.next_batch(batch_size)\n",
    "    probs, hs = forward(X, model)\n",
    "    \n",
    "    y_logprobs = -np.log(probs[range(batch_size),y]) # cross-entropy loss\n",
    "    loss = np.sum(y_logprobs)/batch_size\n",
    "    running_loss = loss if running_loss is None else interp*running_loss + (1-interp)*loss\n",
    "    \n",
    "    # backward\n",
    "    grads = backward(y, probs, X, hs, model) # data gradients\n",
    "    model = {k : model[k] - lr*grads[k] for (k,v) in grads.items()} # update parameters\n",
    "\n",
    "    # ======== DISPLAY PROGRESS ======== #\n",
    "    if global_step % print_every == 0:\n",
    "        if global_step / 4 % print_every == 0:\n",
    "            print('accuracy: {:.2f}%'.format(100*test_accuracy(model)))\n",
    "        print('\\tstep {}: loss: {:.4f}'\n",
    "              .format(global_step, running_loss))"
   ]
  },
  {
   "cell_type": "code",
   "execution_count": null,
   "metadata": {
    "collapsed": true
   },
   "outputs": [],
   "source": []
  }
 ],
 "metadata": {
  "kernelspec": {
   "display_name": "Python 3",
   "language": "python",
   "name": "python3"
  },
  "language_info": {
   "codemirror_mode": {
    "name": "ipython",
    "version": 3
   },
   "file_extension": ".py",
   "mimetype": "text/x-python",
   "name": "python",
   "nbconvert_exporter": "python",
   "pygments_lexer": "ipython3",
   "version": "3.6.1"
  }
 },
 "nbformat": 4,
 "nbformat_minor": 1
}

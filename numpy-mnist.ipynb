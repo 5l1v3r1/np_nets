{
 "cells": [
  {
   "cell_type": "markdown",
   "metadata": {},
   "source": [
    "# Numpy MNIST\n",
    "\n",
    "Sam Greydanus | September 2017 | MIT License"
   ]
  },
  {
   "cell_type": "code",
   "execution_count": 1,
   "metadata": {
    "collapsed": true
   },
   "outputs": [],
   "source": [
    "from __future__ import print_function\n",
    "import numpy as np\n",
    "import matplotlib.pyplot as plt\n",
    "import torch\n",
    "from torchvision import datasets, transforms"
   ]
  },
  {
   "cell_type": "code",
   "execution_count": 2,
   "metadata": {
    "collapsed": true
   },
   "outputs": [],
   "source": [
    "class Mnist():\n",
    "    def __init__(self, batch_size):\n",
    "        self.batch_size = batch_size\n",
    "        self.modes = modes = ['train', 'test']\n",
    "        trans = transforms.Compose([transforms.ToTensor(),]) # transforms.Normalize((0.1307,), (0.3081,))\n",
    "        dsets = {k: datasets.MNIST('./data', train=k=='train', download=True, transform=trans) for k in modes}\n",
    "        self.loaders = {k: torch.utils.data.DataLoader(dsets[k], batch_size=batch_size, shuffle=True) for k in modes}\n",
    "\n",
    "    def next(self, mode='train'):\n",
    "        X, y = next(iter(self.loaders[mode]))\n",
    "        return X.resize_(self.batch_size, 28**2).numpy(), y.numpy()"
   ]
  },
  {
   "cell_type": "code",
   "execution_count": 3,
   "metadata": {
    "collapsed": true
   },
   "outputs": [],
   "source": [
    "def get_accuracy(model, mnist, nsamples=10000, mode='test'):\n",
    "    assert mode in mnist.modes, 'incorrect mode supplied'\n",
    "    assert nsamples >= 10*mnist.batch_size\n",
    "    pool_size, correct = 0, 0\n",
    "    total_correct = 0 ; total = 0 ; acc_list = []\n",
    "    nbatches = int(nsamples/mnist.batch_size)\n",
    "    for _ in range(nbatches):\n",
    "        pool_size += mnist.batch_size\n",
    "        X, y = mnist.next(mode)\n",
    "        y_hat = model(X)\n",
    "        correct += sum(y_hat.argmax(axis=1) == y)\n",
    "        if pool_size > nsamples/10:\n",
    "            acc_list.append(100*correct/pool_size)\n",
    "            total_correct += correct\n",
    "            pool_size, correct = 0, 0\n",
    "    mean, std = 100*total_correct/(nbatches*mnist.batch_size), np.std(acc_list)\n",
    "    return mean, std"
   ]
  },
  {
   "cell_type": "code",
   "execution_count": 4,
   "metadata": {
    "collapsed": true
   },
   "outputs": [],
   "source": [
    "def forward(X, model):\n",
    "    # evaluate class scores, [N x K]\n",
    "    saved = {'X': X.copy()}\n",
    "    \n",
    "    h1 = np.dot(X, model['W1']) + model['b1'] # linear layer\n",
    "    h1[h1<0] = 0 # relu\n",
    "    saved['h1'] = h1\n",
    "    \n",
    "    h2 = np.dot(h1, model['W2']) + model['b2'] # linear layer\n",
    "    h2[h2<0] = 0 # relu\n",
    "    saved['h2'] = h2\n",
    "    \n",
    "    e = np.exp(h2 - np.amax(h2, axis=1, keepdims=True))\n",
    "    probs = e / np.sum(e, axis=1, keepdims=True) # softmax cap\n",
    "    return probs, saved"
   ]
  },
  {
   "cell_type": "code",
   "execution_count": 5,
   "metadata": {
    "collapsed": true
   },
   "outputs": [],
   "source": [
    "def backward(y, y_hat, model, saved):\n",
    "    batch_size = y.shape[0]\n",
    "    grads = { k : np.zeros_like(v) for k,v in model.items() }\n",
    "    \n",
    "    # negative log likelihood\n",
    "    nll_loss = -np.log(y_hat[range(batch_size),y]).mean()\n",
    "    y_hat[range(batch_size),y] -= 1 # backwards through softmax\n",
    "    dh2 = y_hat/batch_size\n",
    "    \n",
    "    # second hidden layer\n",
    "    grads['W2'] = np.dot(saved['h1'].T, dh2)\n",
    "    grads['b2'] = np.sum(dh2, axis=0, keepdims=True)\n",
    "\n",
    "    # first hidden layer\n",
    "    dh1 = np.dot(dh2, model['W2'].T)       # backwards through linear layer\n",
    "    dh1[saved['h1'] <= 0] = 0              # backwards through relu\n",
    "    grads['W1'] = np.dot(saved['X'].T, dh1)\n",
    "    grads['b1'] = np.sum(dh1, axis=0, keepdims=True)\n",
    "    return nll_loss, grads"
   ]
  },
  {
   "cell_type": "code",
   "execution_count": 7,
   "metadata": {},
   "outputs": [],
   "source": [
    "def train(model, dataloader, args, horizon=20):\n",
    "    loss_hist = [] ; acc_hist = []\n",
    "    rmsprop = { k : np.zeros_like(v) for k,v in model.items() } # rmsprop gradient cache\n",
    "    for step in range(args['max_steps'] + 1):\n",
    "        X, y = mnist.next()\n",
    "        y_hat, saved = forward(X, model)\n",
    "        \n",
    "        nll_loss, nll_grads = backward(y, y_hat, model, saved)\n",
    "        weight_decay_grads = {k : args['weight_decay']*model[k] for k in model.keys()}\n",
    "        weight_decay_loss = 0.5*args['weight_decay']*np.sum([np.sum(w*w) for w in model.values()])\n",
    "        \n",
    "        # parameter update\n",
    "        grads = {k : -nll_grads[k] + -weight_decay_grads[k] for k in model.keys()}\n",
    "        for k,v in model.items():\n",
    "            rmsprop[k] = args['rms_decay'] * rmsprop[k] + (1-args['rms_decay']) * grads[k]**2\n",
    "            model[k] += args['lr'] * grads[k] / (np.sqrt(rmsprop[k]) + 1e-5)\n",
    "        \n",
    "        # bookkeeping\n",
    "        end = '\\r'\n",
    "        loss_hist += [nll_loss + weight_decay_loss]\n",
    "        run_loss = sum(loss_hist[-horizon:])/min(horizon, step+1)\n",
    "        if step % args['test_every'] == 0:\n",
    "            get_y_hat = lambda X: forward(X, model)[0]\n",
    "            acc, acc_std = get_accuracy(model=get_y_hat, mnist=mnist)\n",
    "            acc_hist += [[acc, acc_std]] ; end = '\\n'\n",
    "        print('step {} | run loss {:.4f} | acc {:.2f}% +/- {:.2f}'.format(step, run_loss, acc, acc_std), end=end)\n",
    "        \n",
    "    return model, loss_hist, acc_hist"
   ]
  },
  {
   "cell_type": "code",
   "execution_count": 8,
   "metadata": {},
   "outputs": [
    {
     "name": "stdout",
     "output_type": "stream",
     "text": [
      "step 0 | run loss 3.2900 | acc 27.08% +/- 0.83\n",
      "step 500 | run loss 0.1431 | acc 88.45% +/- 0.86\n",
      "step 1000 | run loss 0.1359 | acc 88.65% +/- 0.89\n",
      "step 1500 | run loss 0.1096 | acc 89.46% +/- 0.57\n",
      "step 2000 | run loss 0.0840 | acc 90.33% +/- 0.47\n",
      "step 2500 | run loss 0.0703 | acc 90.35% +/- 0.42\n",
      "step 3000 | run loss 0.0676 | acc 90.00% +/- 0.55\n",
      "step 3500 | run loss 0.0776 | acc 90.46% +/- 0.24\n",
      "step 4000 | run loss 0.0664 | acc 90.03% +/- 0.45\n",
      "step 4500 | run loss 0.0702 | acc 90.29% +/- 0.35\n",
      "step 5000 | run loss 0.0765 | acc 90.01% +/- 0.36\n",
      "step 5500 | run loss 0.0603 | acc 90.11% +/- 0.54\n",
      "step 6000 | run loss 0.0525 | acc 90.27% +/- 0.38\n",
      "step 6500 | run loss 0.0675 | acc 90.42% +/- 0.35\n",
      "step 7000 | run loss 0.0628 | acc 90.56% +/- 0.46\n",
      "step 7500 | run loss 0.0628 | acc 90.62% +/- 0.45\n",
      "step 8000 | run loss 0.0554 | acc 90.34% +/- 0.38\n",
      "step 8500 | run loss 0.0562 | acc 90.09% +/- 0.43\n",
      "step 9000 | run loss 0.0634 | acc 90.52% +/- 0.30\n",
      "step 9500 | run loss 0.0578 | acc 90.66% +/- 0.43\n",
      "step 10000 | run loss 0.0595 | acc 90.34% +/- 0.32\n"
     ]
    }
   ],
   "source": [
    "args = {'batch_size': 128, 'lr': 1e-3,\n",
    "        'rms_decay': 0.98, 'weight_decay': 1e-4,\n",
    "        'h_size': 256, 'test_every': 500,\n",
    "        'max_steps': 10000, 'save_dir': './save/'}\n",
    "\n",
    "model = {}\n",
    "# first layer\n",
    "model['W1'] = np.random.randn(28**2, args['h_size']) / np.sqrt(args['h_size']) # Xavier initialization\n",
    "model['b1'] = np.zeros((1,args['h_size']))\n",
    "model['W2'] = np.random.randn(args['h_size'],10) / np.sqrt(10)\n",
    "model['b2'] = np.zeros((1,10))\n",
    "\n",
    "mnist = Mnist(args['batch_size'])\n",
    "\n",
    "model, loss_hist, acc_hist = train(model, mnist, args)"
   ]
  },
  {
   "cell_type": "code",
   "execution_count": 9,
   "metadata": {},
   "outputs": [
    {
     "data": {
      "image/png": "[encoded data removed]",
      "text/plain": [
       "<matplotlib.figure.Figure at 0x10e236630>"
      ]
     },
     "metadata": {},
     "output_type": "display_data"
    }
   ],
   "source": [
    "loss_data = np.vstack(loss_hist)\n",
    "acc_data = np.vstack(acc_hist)\n",
    "\n",
    "plt.figure(figsize=[12,4])\n",
    "plt.subplot(1,2,1) ; plt.title(\"Train loss\") ; plt.xlabel(\"steps\")\n",
    "plt.plot(range(len(loss_hist)), loss_data) ; plt.ylim([0,1])\n",
    "plt.subplot(1,2,2) ; plt.title(\"Test accuracy\") ; plt.xlabel(\"steps\")\n",
    "plt.plot(acc_data[:,0]) ; plt.ylim([80,95])\n",
    "plt.errorbar(range(len(acc_hist)), acc_data[:,0], yerr=acc_data[:,1], errorevery=1)\n",
    "plt.show()"
   ]
  },
  {
   "cell_type": "code",
   "execution_count": 10,
   "metadata": {},
   "outputs": [
    {
     "data": {
      "image/png": "[encoded data removed]",
      "text/plain": [
       "<matplotlib.figure.Figure at 0x112f5b4a8>"
      ]
     },
     "metadata": {},
     "output_type": "display_data"
    }
   ],
   "source": [
    "X, y = mnist.next()\n",
    "y_hat, saved = forward(X, model)\n",
    "predictions = y_hat.argmax(axis=1)\n",
    "\n",
    "rows = 2\n",
    "cols = 5\n",
    "side = 2\n",
    "f = plt.figure(figsize=[cols*side,rows*side])\n",
    "for r in range(rows):\n",
    "    for c in range(cols):\n",
    "        img_ix = r*cols + c\n",
    "        plt.subplot(rows, cols, img_ix+1)\n",
    "        plt.title(\"pred: {}\".format(predictions[img_ix]))\n",
    "        plt.imshow(X[img_ix].reshape(28,28), cmap='gray')\n",
    "        \n",
    "        f.axes[img_ix].get_xaxis().set_visible(False)\n",
    "        f.axes[img_ix].get_yaxis().set_visible(False)\n",
    "plt.show()"
   ]
  },
  {
   "cell_type": "code",
   "execution_count": null,
   "metadata": {
    "collapsed": true
   },
   "outputs": [],
   "source": []
  }
 ],
 "metadata": {
  "kernelspec": {
   "display_name": "Python 3",
   "language": "python",
   "name": "python3"
  },
  "language_info": {
   "codemirror_mode": {
    "name": "ipython",
    "version": 3
   },
   "file_extension": ".py",
   "mimetype": "text/x-python",
   "name": "python",
   "nbconvert_exporter": "python",
   "pygments_lexer": "ipython3",
   "version": "3.6.1"
  }
 },
 "nbformat": 4,
 "nbformat_minor": 2
}
